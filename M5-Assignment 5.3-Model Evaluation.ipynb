{
 "cells": [
  {
   "cell_type": "code",
   "execution_count": null,
   "id": "f742fbf4-e0b9-4e93-9136-9b232d66e628",
   "metadata": {},
   "outputs": [],
   "source": [
    "Model Evaluation"
   ]
  },
  {
   "cell_type": "code",
   "execution_count": null,
   "id": "9d0b5991-6b75-4a1f-aa2f-454a8f85db22",
   "metadata": {},
   "outputs": [],
   "source": [
    "Based on the performance metrics, we can see the comparison between the Linear Regression and Random Forest Regression models:\n",
    "\n",
    "Linear Regression Model:\n",
    "    Root Mean Squared Error (RMSE): 21,824.38\n",
    "    Mean Absolute Error (MAE): 14,567.68\n",
    "Random Forest Regression Model:\n",
    "    Root Mean Squared Error (RMSE): 5,057.43\n",
    "    Mean Absolute Error (MAE): 1,853.53"
   ]
  },
  {
   "cell_type": "code",
   "execution_count": null,
   "id": "d087df72-452d-4a10-ba65-a220b7dc7716",
   "metadata": {},
   "outputs": [],
   "source": [
    "Interpretation and Comparison:\n",
    "\n",
    "The Random Forest Regression model significantly outperforms the Linear Regression model in terms of both RMSE and MAE. \n",
    "This suggests that the Random Forest model provides more accurate and reliable predictions of weekly sales."
   ]
  },
  {
   "cell_type": "code",
   "execution_count": null,
   "id": "aec5ad17-19b7-45ad-a91a-203bc9ddd9fd",
   "metadata": {},
   "outputs": [],
   "source": [
    "Feature Importance model:\n",
    "\n",
    "The feature importance graph provides valuable insights into which factors most significantly affect sales predictions.\n",
    "The Random Forest Regression model clearly shows that:\n",
    "High Importance Features are Dept. and Size.\n",
    "Moderate Importance Features are CPI, Employment, Temperature, Type, MarkDown3, and Fuel Price\n",
    "Other features have little affects on sales."
   ]
  }
 ],
 "metadata": {
  "kernelspec": {
   "display_name": "anaconda-panel-2023.05-py310",
   "language": "python",
   "name": "conda-env-anaconda-panel-2023.05-py310-py"
  },
  "language_info": {
   "codemirror_mode": {
    "name": "ipython",
    "version": 3
   },
   "file_extension": ".py",
   "mimetype": "text/x-python",
   "name": "python",
   "nbconvert_exporter": "python",
   "pygments_lexer": "ipython3",
   "version": "3.11.5"
  }
 },
 "nbformat": 4,
 "nbformat_minor": 5
}
